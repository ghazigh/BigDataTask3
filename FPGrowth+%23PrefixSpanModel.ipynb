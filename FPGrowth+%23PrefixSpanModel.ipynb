{
 "cells": [
  {
   "cell_type": "code",
   "execution_count": 4,
   "metadata": {
    "collapsed": false
   },
   "outputs": [],
   "source": [
    "import os\n",
    "import sys"
   ]
  },
  {
   "cell_type": "code",
   "execution_count": 5,
   "metadata": {
    "collapsed": true
   },
   "outputs": [],
   "source": [
    "spark_path = \"E:/spark\""
   ]
  },
  {
   "cell_type": "code",
   "execution_count": 6,
   "metadata": {
    "collapsed": true
   },
   "outputs": [],
   "source": [
    "os.environ['SPARK_HOME'] = spark_path"
   ]
  },
  {
   "cell_type": "code",
   "execution_count": 7,
   "metadata": {
    "collapsed": true
   },
   "outputs": [],
   "source": [
    "os.environ['HADOOP_HOME'] = spark_path"
   ]
  },
  {
   "cell_type": "code",
   "execution_count": 8,
   "metadata": {
    "collapsed": true
   },
   "outputs": [],
   "source": [
    "os.environ['PYSPARK_PYTHON'] = sys.executable"
   ]
  },
  {
   "cell_type": "code",
   "execution_count": 9,
   "metadata": {
    "collapsed": true
   },
   "outputs": [],
   "source": [
    "sys.path.append(spark_path + \"/bin\")\n",
    "sys.path.append(spark_path + \"/python\")\n",
    "sys.path.append(spark_path + \"/python/pyspark/\")\n",
    "sys.path.append(spark_path + \"/python/lib\")\n",
    "sys.path.append(spark_path + \"/python/lib/pyspark.zip\")\n",
    "sys.path.append(spark_path + \"/python/lib/py4j-0.10.4-src.zip\")"
   ]
  },
  {
   "cell_type": "code",
   "execution_count": 10,
   "metadata": {
    "collapsed": false
   },
   "outputs": [
    {
     "name": "stdout",
     "output_type": "stream",
     "text": [
      "<pyspark.context.SparkContext object at 0x0000000004905908>\n"
     ]
    }
   ],
   "source": [
    "from pyspark import SparkContext\n",
    "from pyspark import SparkConf\n",
    "\n",
    "sc = SparkContext(\"local\", \"test\")\n",
    "\n",
    "print sc"
   ]
  },
  {
   "cell_type": "code",
   "execution_count": 11,
   "metadata": {
    "collapsed": false
   },
   "outputs": [
    {
     "data": {
      "text/plain": [
       "<pyspark.context.SparkContext at 0x4905908>"
      ]
     },
     "execution_count": 11,
     "metadata": {},
     "output_type": "execute_result"
    }
   ],
   "source": [
    "sc"
   ]
  },
  {
   "cell_type": "code",
   "execution_count": 16,
   "metadata": {
    "collapsed": true
   },
   "outputs": [],
   "source": [
    "from pyspark.mllib.fpm import FPGrowth\n",
    "from pyspark.mllib.fpm import FPGrowthModel\n",
    "from pyspark.mllib.fpm import PrefixSpan"
   ]
  },
  {
   "cell_type": "code",
   "execution_count": 13,
   "metadata": {
    "collapsed": true
   },
   "outputs": [],
   "source": [
    "data = [\n",
    "            [[\"a\", \"b\"], [\"c\"]],\n",
    "            [[\"a\"], [\"c\", \"b\"], [\"a\", \"b\"]],\n",
    "            [[\"a\", \"b\"], [\"e\"]],\n",
    "            [[\"f\"]]]"
   ]
  },
  {
   "cell_type": "code",
   "execution_count": 14,
   "metadata": {
    "collapsed": true
   },
   "outputs": [],
   "source": [
    "rdd = sc.parallelize(data, 2)"
   ]
  },
  {
   "cell_type": "code",
   "execution_count": 17,
   "metadata": {
    "collapsed": false
   },
   "outputs": [],
   "source": [
    "model = PrefixSpan.train(rdd)"
   ]
  },
  {
   "cell_type": "code",
   "execution_count": 18,
   "metadata": {
    "collapsed": false
   },
   "outputs": [
    {
     "data": {
      "text/plain": [
       "[FreqSequence(sequence=[[u'a']], freq=3),\n",
       " FreqSequence(sequence=[[u'a'], [u'a']], freq=1),\n",
       " FreqSequence(sequence=[[u'a'], [u'b']], freq=1),\n",
       " FreqSequence(sequence=[[u'a'], [u'b'], [u'a']], freq=1),\n",
       " FreqSequence(sequence=[[u'a'], [u'b'], [u'b']], freq=1),\n",
       " FreqSequence(sequence=[[u'a'], [u'b'], [u'b', u'a']], freq=1),\n",
       " FreqSequence(sequence=[[u'a'], [u'b', u'a']], freq=1),\n",
       " FreqSequence(sequence=[[u'a'], [u'b', u'c']], freq=1),\n",
       " FreqSequence(sequence=[[u'a'], [u'b', u'c'], [u'a']], freq=1),\n",
       " FreqSequence(sequence=[[u'a'], [u'b', u'c'], [u'b']], freq=1),\n",
       " FreqSequence(sequence=[[u'a'], [u'b', u'c'], [u'b', u'a']], freq=1),\n",
       " FreqSequence(sequence=[[u'a'], [u'c']], freq=2),\n",
       " FreqSequence(sequence=[[u'a'], [u'c'], [u'a']], freq=1),\n",
       " FreqSequence(sequence=[[u'a'], [u'c'], [u'b']], freq=1),\n",
       " FreqSequence(sequence=[[u'a'], [u'c'], [u'b', u'a']], freq=1),\n",
       " FreqSequence(sequence=[[u'a'], [u'e']], freq=1),\n",
       " FreqSequence(sequence=[[u'b']], freq=3),\n",
       " FreqSequence(sequence=[[u'b'], [u'a']], freq=1),\n",
       " FreqSequence(sequence=[[u'b'], [u'b']], freq=1),\n",
       " FreqSequence(sequence=[[u'b'], [u'b', u'a']], freq=1),\n",
       " FreqSequence(sequence=[[u'b'], [u'c']], freq=1),\n",
       " FreqSequence(sequence=[[u'b'], [u'e']], freq=1),\n",
       " FreqSequence(sequence=[[u'b', u'a']], freq=3),\n",
       " FreqSequence(sequence=[[u'b', u'a'], [u'c']], freq=1),\n",
       " FreqSequence(sequence=[[u'b', u'a'], [u'e']], freq=1),\n",
       " FreqSequence(sequence=[[u'b', u'c']], freq=1),\n",
       " FreqSequence(sequence=[[u'b', u'c'], [u'a']], freq=1),\n",
       " FreqSequence(sequence=[[u'b', u'c'], [u'b']], freq=1),\n",
       " FreqSequence(sequence=[[u'b', u'c'], [u'b', u'a']], freq=1),\n",
       " FreqSequence(sequence=[[u'c']], freq=2),\n",
       " FreqSequence(sequence=[[u'c'], [u'a']], freq=1),\n",
       " FreqSequence(sequence=[[u'c'], [u'b']], freq=1),\n",
       " FreqSequence(sequence=[[u'c'], [u'b', u'a']], freq=1),\n",
       " FreqSequence(sequence=[[u'e']], freq=1),\n",
       " FreqSequence(sequence=[[u'f']], freq=1)]"
      ]
     },
     "execution_count": 18,
     "metadata": {},
     "output_type": "execute_result"
    }
   ],
   "source": [
    "sorted(model.freqSequences().collect())"
   ]
  },
  {
   "cell_type": "code",
   "execution_count": null,
   "metadata": {
    "collapsed": true
   },
   "outputs": [],
   "source": []
  }
 ],
 "metadata": {
  "kernelspec": {
   "display_name": "Python 2",
   "language": "python",
   "name": "python2"
  },
  "language_info": {
   "codemirror_mode": {
    "name": "ipython",
    "version": 2
   },
   "file_extension": ".py",
   "mimetype": "text/x-python",
   "name": "python",
   "nbconvert_exporter": "python",
   "pygments_lexer": "ipython2",
   "version": "2.7.13"
  }
 },
 "nbformat": 4,
 "nbformat_minor": 2
}
